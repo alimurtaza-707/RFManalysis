{
 "cells": [
  {
   "cell_type": "code",
   "execution_count": 158,
   "id": "b05c01b8",
   "metadata": {},
   "outputs": [],
   "source": [
    "import numpy as np\n",
    "import pandas as pd\n",
    "import matplotlib.pyplot as plt\n",
    "import seaborn as sns"
   ]
  },
  {
   "cell_type": "code",
   "execution_count": 159,
   "id": "2f1236f6",
   "metadata": {},
   "outputs": [
    {
     "data": {
      "text/html": [
       "<div>\n",
       "<style scoped>\n",
       "    .dataframe tbody tr th:only-of-type {\n",
       "        vertical-align: middle;\n",
       "    }\n",
       "\n",
       "    .dataframe tbody tr th {\n",
       "        vertical-align: top;\n",
       "    }\n",
       "\n",
       "    .dataframe thead th {\n",
       "        text-align: right;\n",
       "    }\n",
       "</style>\n",
       "<table border=\"1\" class=\"dataframe\">\n",
       "  <thead>\n",
       "    <tr style=\"text-align: right;\">\n",
       "      <th></th>\n",
       "      <th>CustomerID</th>\n",
       "      <th>TransactionDate</th>\n",
       "      <th>Amount</th>\n",
       "      <th>ProductCategory</th>\n",
       "      <th>Location</th>\n",
       "      <th>PaymentMethod</th>\n",
       "    </tr>\n",
       "  </thead>\n",
       "  <tbody>\n",
       "    <tr>\n",
       "      <th>0</th>\n",
       "      <td>CUST0177</td>\n",
       "      <td>2023-02-12</td>\n",
       "      <td>1468.92</td>\n",
       "      <td>Clothing</td>\n",
       "      <td>NaN</td>\n",
       "      <td>Debit</td>\n",
       "    </tr>\n",
       "    <tr>\n",
       "      <th>1</th>\n",
       "      <td>CUST0359</td>\n",
       "      <td>2022-04-13</td>\n",
       "      <td>421.06</td>\n",
       "      <td>Beauty</td>\n",
       "      <td>NaN</td>\n",
       "      <td>paypal</td>\n",
       "    </tr>\n",
       "    <tr>\n",
       "      <th>2</th>\n",
       "      <td>CUST0315</td>\n",
       "      <td>2023-12-25</td>\n",
       "      <td>94.63</td>\n",
       "      <td>Beauty</td>\n",
       "      <td>NaN</td>\n",
       "      <td>Credit Card</td>\n",
       "    </tr>\n",
       "    <tr>\n",
       "      <th>3</th>\n",
       "      <td>CUST0422</td>\n",
       "      <td>2023-09-07</td>\n",
       "      <td>865.11</td>\n",
       "      <td>Clothing</td>\n",
       "      <td>Chicago</td>\n",
       "      <td>Debit</td>\n",
       "    </tr>\n",
       "    <tr>\n",
       "      <th>4</th>\n",
       "      <td>cust0312</td>\n",
       "      <td>2023-02-15</td>\n",
       "      <td>1224.07</td>\n",
       "      <td>NaN</td>\n",
       "      <td>Chicago</td>\n",
       "      <td>NaN</td>\n",
       "    </tr>\n",
       "  </tbody>\n",
       "</table>\n",
       "</div>"
      ],
      "text/plain": [
       "  CustomerID TransactionDate   Amount ProductCategory Location PaymentMethod\n",
       "0   CUST0177      2023-02-12  1468.92        Clothing      NaN         Debit\n",
       "1   CUST0359      2022-04-13   421.06          Beauty      NaN        paypal\n",
       "2   CUST0315      2023-12-25    94.63          Beauty      NaN   Credit Card\n",
       "3   CUST0422      2023-09-07   865.11        Clothing  Chicago         Debit\n",
       "4   cust0312      2023-02-15  1224.07             NaN  Chicago           NaN"
      ]
     },
     "execution_count": 159,
     "metadata": {},
     "output_type": "execute_result"
    }
   ],
   "source": [
    "#loading dataset\n",
    "\n",
    "df=pd.read_csv(\"messy_retail_transactions.csv\")\n",
    "df.head()"
   ]
  },
  {
   "cell_type": "code",
   "execution_count": 160,
   "id": "cb709e33",
   "metadata": {},
   "outputs": [
    {
     "name": "stdout",
     "output_type": "stream",
     "text": [
      "<class 'pandas.core.frame.DataFrame'>\n",
      "RangeIndex: 5000 entries, 0 to 4999\n",
      "Data columns (total 6 columns):\n",
      " #   Column           Non-Null Count  Dtype  \n",
      "---  ------           --------------  -----  \n",
      " 0   CustomerID       5000 non-null   object \n",
      " 1   TransactionDate  5000 non-null   object \n",
      " 2   Amount           4886 non-null   float64\n",
      " 3   ProductCategory  3852 non-null   object \n",
      " 4   Location         3556 non-null   object \n",
      " 5   PaymentMethod    4172 non-null   object \n",
      "dtypes: float64(1), object(5)\n",
      "memory usage: 234.5+ KB\n"
     ]
    }
   ],
   "source": [
    "df.info()"
   ]
  },
  {
   "cell_type": "code",
   "execution_count": 161,
   "id": "8c8a7cba",
   "metadata": {},
   "outputs": [
    {
     "data": {
      "text/html": [
       "<div>\n",
       "<style scoped>\n",
       "    .dataframe tbody tr th:only-of-type {\n",
       "        vertical-align: middle;\n",
       "    }\n",
       "\n",
       "    .dataframe tbody tr th {\n",
       "        vertical-align: top;\n",
       "    }\n",
       "\n",
       "    .dataframe thead th {\n",
       "        text-align: right;\n",
       "    }\n",
       "</style>\n",
       "<table border=\"1\" class=\"dataframe\">\n",
       "  <thead>\n",
       "    <tr style=\"text-align: right;\">\n",
       "      <th></th>\n",
       "      <th>CustomerID</th>\n",
       "      <th>TransactionDate</th>\n",
       "      <th>Amount</th>\n",
       "      <th>ProductCategory</th>\n",
       "      <th>Location</th>\n",
       "      <th>PaymentMethod</th>\n",
       "    </tr>\n",
       "  </thead>\n",
       "  <tbody>\n",
       "    <tr>\n",
       "      <th>count</th>\n",
       "      <td>5000</td>\n",
       "      <td>5000</td>\n",
       "      <td>4886.000000</td>\n",
       "      <td>3852</td>\n",
       "      <td>3556</td>\n",
       "      <td>4172</td>\n",
       "    </tr>\n",
       "    <tr>\n",
       "      <th>unique</th>\n",
       "      <td>723</td>\n",
       "      <td>878</td>\n",
       "      <td>NaN</td>\n",
       "      <td>7</td>\n",
       "      <td>5</td>\n",
       "      <td>5</td>\n",
       "    </tr>\n",
       "    <tr>\n",
       "      <th>top</th>\n",
       "      <td>CUST0353</td>\n",
       "      <td>2022-12-18</td>\n",
       "      <td>NaN</td>\n",
       "      <td>Beauty</td>\n",
       "      <td>los angeles</td>\n",
       "      <td>CRD</td>\n",
       "    </tr>\n",
       "    <tr>\n",
       "      <th>freq</th>\n",
       "      <td>18</td>\n",
       "      <td>13</td>\n",
       "      <td>NaN</td>\n",
       "      <td>606</td>\n",
       "      <td>766</td>\n",
       "      <td>854</td>\n",
       "    </tr>\n",
       "    <tr>\n",
       "      <th>mean</th>\n",
       "      <td>NaN</td>\n",
       "      <td>NaN</td>\n",
       "      <td>1000.948293</td>\n",
       "      <td>NaN</td>\n",
       "      <td>NaN</td>\n",
       "      <td>NaN</td>\n",
       "    </tr>\n",
       "    <tr>\n",
       "      <th>std</th>\n",
       "      <td>NaN</td>\n",
       "      <td>NaN</td>\n",
       "      <td>585.670208</td>\n",
       "      <td>NaN</td>\n",
       "      <td>NaN</td>\n",
       "      <td>NaN</td>\n",
       "    </tr>\n",
       "    <tr>\n",
       "      <th>min</th>\n",
       "      <td>NaN</td>\n",
       "      <td>NaN</td>\n",
       "      <td>-9.350000</td>\n",
       "      <td>NaN</td>\n",
       "      <td>NaN</td>\n",
       "      <td>NaN</td>\n",
       "    </tr>\n",
       "    <tr>\n",
       "      <th>25%</th>\n",
       "      <td>NaN</td>\n",
       "      <td>NaN</td>\n",
       "      <td>489.752500</td>\n",
       "      <td>NaN</td>\n",
       "      <td>NaN</td>\n",
       "      <td>NaN</td>\n",
       "    </tr>\n",
       "    <tr>\n",
       "      <th>50%</th>\n",
       "      <td>NaN</td>\n",
       "      <td>NaN</td>\n",
       "      <td>1008.750000</td>\n",
       "      <td>NaN</td>\n",
       "      <td>NaN</td>\n",
       "      <td>NaN</td>\n",
       "    </tr>\n",
       "    <tr>\n",
       "      <th>75%</th>\n",
       "      <td>NaN</td>\n",
       "      <td>NaN</td>\n",
       "      <td>1510.810000</td>\n",
       "      <td>NaN</td>\n",
       "      <td>NaN</td>\n",
       "      <td>NaN</td>\n",
       "    </tr>\n",
       "    <tr>\n",
       "      <th>max</th>\n",
       "      <td>NaN</td>\n",
       "      <td>NaN</td>\n",
       "      <td>1999.710000</td>\n",
       "      <td>NaN</td>\n",
       "      <td>NaN</td>\n",
       "      <td>NaN</td>\n",
       "    </tr>\n",
       "  </tbody>\n",
       "</table>\n",
       "</div>"
      ],
      "text/plain": [
       "       CustomerID TransactionDate       Amount ProductCategory     Location  \\\n",
       "count        5000            5000  4886.000000            3852         3556   \n",
       "unique        723             878          NaN               7            5   \n",
       "top      CUST0353      2022-12-18          NaN          Beauty  los angeles   \n",
       "freq           18              13          NaN             606          766   \n",
       "mean          NaN             NaN  1000.948293             NaN          NaN   \n",
       "std           NaN             NaN   585.670208             NaN          NaN   \n",
       "min           NaN             NaN    -9.350000             NaN          NaN   \n",
       "25%           NaN             NaN   489.752500             NaN          NaN   \n",
       "50%           NaN             NaN  1008.750000             NaN          NaN   \n",
       "75%           NaN             NaN  1510.810000             NaN          NaN   \n",
       "max           NaN             NaN  1999.710000             NaN          NaN   \n",
       "\n",
       "       PaymentMethod  \n",
       "count           4172  \n",
       "unique             5  \n",
       "top              CRD  \n",
       "freq             854  \n",
       "mean             NaN  \n",
       "std              NaN  \n",
       "min              NaN  \n",
       "25%              NaN  \n",
       "50%              NaN  \n",
       "75%              NaN  \n",
       "max              NaN  "
      ]
     },
     "execution_count": 161,
     "metadata": {},
     "output_type": "execute_result"
    }
   ],
   "source": [
    "df.describe(include='all')"
   ]
  },
  {
   "cell_type": "code",
   "execution_count": 162,
   "id": "a217eea6",
   "metadata": {},
   "outputs": [
    {
     "data": {
      "text/plain": [
       "0"
      ]
     },
     "execution_count": 162,
     "metadata": {},
     "output_type": "execute_result"
    }
   ],
   "source": [
    "df.duplicated().sum()"
   ]
  },
  {
   "cell_type": "code",
   "execution_count": 163,
   "id": "1941db13",
   "metadata": {},
   "outputs": [
    {
     "data": {
      "text/html": [
       "<div>\n",
       "<style scoped>\n",
       "    .dataframe tbody tr th:only-of-type {\n",
       "        vertical-align: middle;\n",
       "    }\n",
       "\n",
       "    .dataframe tbody tr th {\n",
       "        vertical-align: top;\n",
       "    }\n",
       "\n",
       "    .dataframe thead th {\n",
       "        text-align: right;\n",
       "    }\n",
       "</style>\n",
       "<table border=\"1\" class=\"dataframe\">\n",
       "  <thead>\n",
       "    <tr style=\"text-align: right;\">\n",
       "      <th></th>\n",
       "      <th>CustomerID</th>\n",
       "      <th>TransactionDate</th>\n",
       "      <th>Amount</th>\n",
       "      <th>ProductCategory</th>\n",
       "      <th>Location</th>\n",
       "      <th>PaymentMethod</th>\n",
       "    </tr>\n",
       "  </thead>\n",
       "  <tbody>\n",
       "    <tr>\n",
       "      <th>0</th>\n",
       "      <td>CUST0177</td>\n",
       "      <td>2023-02-12</td>\n",
       "      <td>1468.92</td>\n",
       "      <td>Clothing</td>\n",
       "      <td>NaN</td>\n",
       "      <td>Debit</td>\n",
       "    </tr>\n",
       "    <tr>\n",
       "      <th>1</th>\n",
       "      <td>CUST0359</td>\n",
       "      <td>2022-04-13</td>\n",
       "      <td>421.06</td>\n",
       "      <td>Beauty</td>\n",
       "      <td>NaN</td>\n",
       "      <td>paypal</td>\n",
       "    </tr>\n",
       "    <tr>\n",
       "      <th>2</th>\n",
       "      <td>CUST0315</td>\n",
       "      <td>2023-12-25</td>\n",
       "      <td>94.63</td>\n",
       "      <td>Beauty</td>\n",
       "      <td>NaN</td>\n",
       "      <td>Credit Card</td>\n",
       "    </tr>\n",
       "    <tr>\n",
       "      <th>3</th>\n",
       "      <td>CUST0422</td>\n",
       "      <td>2023-09-07</td>\n",
       "      <td>865.11</td>\n",
       "      <td>Clothing</td>\n",
       "      <td>Chicago</td>\n",
       "      <td>Debit</td>\n",
       "    </tr>\n",
       "    <tr>\n",
       "      <th>4</th>\n",
       "      <td>cust0312</td>\n",
       "      <td>2023-02-15</td>\n",
       "      <td>1224.07</td>\n",
       "      <td>NaN</td>\n",
       "      <td>Chicago</td>\n",
       "      <td>NaN</td>\n",
       "    </tr>\n",
       "    <tr>\n",
       "      <th>...</th>\n",
       "      <td>...</td>\n",
       "      <td>...</td>\n",
       "      <td>...</td>\n",
       "      <td>...</td>\n",
       "      <td>...</td>\n",
       "      <td>...</td>\n",
       "    </tr>\n",
       "    <tr>\n",
       "      <th>4995</th>\n",
       "      <td>CUST0072</td>\n",
       "      <td>2022-06-01</td>\n",
       "      <td>1556.72</td>\n",
       "      <td>Home</td>\n",
       "      <td>New York</td>\n",
       "      <td>cash</td>\n",
       "    </tr>\n",
       "    <tr>\n",
       "      <th>4996</th>\n",
       "      <td>CUST0436</td>\n",
       "      <td>2023-07-04</td>\n",
       "      <td>620.59</td>\n",
       "      <td>Toys</td>\n",
       "      <td>NaN</td>\n",
       "      <td>Debit</td>\n",
       "    </tr>\n",
       "    <tr>\n",
       "      <th>4997</th>\n",
       "      <td>CUST0198</td>\n",
       "      <td>2023-11-28</td>\n",
       "      <td>1042.94</td>\n",
       "      <td>NaN</td>\n",
       "      <td>los angeles</td>\n",
       "      <td>Debit</td>\n",
       "    </tr>\n",
       "    <tr>\n",
       "      <th>4998</th>\n",
       "      <td>CUST0088</td>\n",
       "      <td>2023-07-12</td>\n",
       "      <td>873.12</td>\n",
       "      <td>NaN</td>\n",
       "      <td>Phoenix</td>\n",
       "      <td>NaN</td>\n",
       "    </tr>\n",
       "    <tr>\n",
       "      <th>4999</th>\n",
       "      <td>CUST0203</td>\n",
       "      <td>2023-11-12</td>\n",
       "      <td>419.07</td>\n",
       "      <td>Books</td>\n",
       "      <td>New York</td>\n",
       "      <td>CRD</td>\n",
       "    </tr>\n",
       "  </tbody>\n",
       "</table>\n",
       "<p>5000 rows × 6 columns</p>\n",
       "</div>"
      ],
      "text/plain": [
       "     CustomerID TransactionDate   Amount ProductCategory     Location  \\\n",
       "0      CUST0177      2023-02-12  1468.92        Clothing          NaN   \n",
       "1      CUST0359      2022-04-13   421.06          Beauty          NaN   \n",
       "2      CUST0315      2023-12-25    94.63          Beauty          NaN   \n",
       "3      CUST0422      2023-09-07   865.11        Clothing      Chicago   \n",
       "4      cust0312      2023-02-15  1224.07             NaN      Chicago   \n",
       "...         ...             ...      ...             ...          ...   \n",
       "4995   CUST0072      2022-06-01  1556.72            Home     New York   \n",
       "4996   CUST0436      2023-07-04   620.59            Toys          NaN   \n",
       "4997   CUST0198      2023-11-28  1042.94             NaN  los angeles   \n",
       "4998   CUST0088      2023-07-12   873.12             NaN      Phoenix   \n",
       "4999   CUST0203      2023-11-12   419.07           Books     New York   \n",
       "\n",
       "     PaymentMethod  \n",
       "0            Debit  \n",
       "1           paypal  \n",
       "2      Credit Card  \n",
       "3            Debit  \n",
       "4              NaN  \n",
       "...            ...  \n",
       "4995          cash  \n",
       "4996         Debit  \n",
       "4997         Debit  \n",
       "4998           NaN  \n",
       "4999           CRD  \n",
       "\n",
       "[5000 rows x 6 columns]"
      ]
     },
     "execution_count": 163,
     "metadata": {},
     "output_type": "execute_result"
    }
   ],
   "source": [
    "df.drop_duplicates()"
   ]
  },
  {
   "cell_type": "code",
   "execution_count": 164,
   "id": "8c61e2ec",
   "metadata": {},
   "outputs": [
    {
     "data": {
      "text/plain": [
       "CustomerID            0\n",
       "TransactionDate       0\n",
       "Amount              114\n",
       "ProductCategory    1148\n",
       "Location           1444\n",
       "PaymentMethod       828\n",
       "dtype: int64"
      ]
     },
     "execution_count": 164,
     "metadata": {},
     "output_type": "execute_result"
    }
   ],
   "source": [
    "df.isnull().sum()"
   ]
  },
  {
   "cell_type": "code",
   "execution_count": 165,
   "id": "872341c6",
   "metadata": {},
   "outputs": [
    {
     "data": {
      "image/png": "[encoded data removed]",
      "text/plain": [
       "<Figure size 640x480 with 1 Axes>"
      ]
     },
     "metadata": {},
     "output_type": "display_data"
    }
   ],
   "source": [
    "sns.histplot(df['Amount'].dropna(), kde=True)\n",
    "plt.title('Distribution of subscription')\n",
    "plt.show()"
   ]
  },
  {
   "cell_type": "code",
   "execution_count": 166,
   "id": "0871cdd5",
   "metadata": {},
   "outputs": [],
   "source": [
    "df = df[df['Amount'].notna()]"
   ]
  },
  {
   "cell_type": "code",
   "execution_count": 167,
   "id": "2af8dfd1",
   "metadata": {},
   "outputs": [
    {
     "data": {
      "text/plain": [
       "CustomerID            0\n",
       "TransactionDate       0\n",
       "Amount                0\n",
       "ProductCategory    1119\n",
       "Location           1413\n",
       "PaymentMethod       808\n",
       "dtype: int64"
      ]
     },
     "execution_count": 167,
     "metadata": {},
     "output_type": "execute_result"
    }
   ],
   "source": [
    "df.isnull().sum()"
   ]
  },
  {
   "cell_type": "code",
   "execution_count": 168,
   "id": "973a3879",
   "metadata": {},
   "outputs": [],
   "source": [
    "df['TransactionDate'] = pd.to_datetime(df['TransactionDate'])\n"
   ]
  },
  {
   "cell_type": "code",
   "execution_count": 169,
   "id": "c097942a",
   "metadata": {},
   "outputs": [],
   "source": [
    "df.rename(columns={'TransactionDate': 'Date'}, inplace=True)\n"
   ]
  },
  {
   "cell_type": "code",
   "execution_count": 170,
   "id": "a89b68e8",
   "metadata": {},
   "outputs": [
    {
     "data": {
      "text/plain": [
       "array([nan, 'Chicago', 'HOUSTON', 'Phoenix', 'los angeles', 'New York'],\n",
       "      dtype=object)"
      ]
     },
     "execution_count": 170,
     "metadata": {},
     "output_type": "execute_result"
    }
   ],
   "source": [
    "df['Location'].unique()"
   ]
  },
  {
   "cell_type": "code",
   "execution_count": 171,
   "id": "6e876f21",
   "metadata": {},
   "outputs": [],
   "source": [
    "df['Location'] = df['Location'].replace('HOUSTON', 'Houston')\n",
    "df['Location'] = df['Location'].replace('los angeles', 'Los Angeles')"
   ]
  },
  {
   "cell_type": "code",
   "execution_count": 172,
   "id": "95654945",
   "metadata": {},
   "outputs": [],
   "source": [
    "df.rename(columns={'ProductCategory': 'Category'}, inplace=True)\n"
   ]
  },
  {
   "cell_type": "code",
   "execution_count": 173,
   "id": "ec9c5930",
   "metadata": {},
   "outputs": [
    {
     "data": {
      "text/plain": [
       "array(['Clothing', 'Beauty', nan, 'Electronics', 'Home', 'Toys',\n",
       "       'Grocery', 'Books'], dtype=object)"
      ]
     },
     "execution_count": 173,
     "metadata": {},
     "output_type": "execute_result"
    }
   ],
   "source": [
    "df['Category'].unique()"
   ]
  },
  {
   "cell_type": "code",
   "execution_count": 174,
   "id": "f6a69b67",
   "metadata": {},
   "outputs": [],
   "source": [
    "df.rename(columns={'PaymentMethod': 'Payment_Method'}, inplace=True)\n"
   ]
  },
  {
   "cell_type": "code",
   "execution_count": 175,
   "id": "d372ac00",
   "metadata": {},
   "outputs": [
    {
     "data": {
      "text/plain": [
       "array(['Debit', 'paypal', 'Credit Card', nan, 'cash', 'CRD'], dtype=object)"
      ]
     },
     "execution_count": 175,
     "metadata": {},
     "output_type": "execute_result"
    }
   ],
   "source": [
    "df['Payment_Method'].unique()"
   ]
  },
  {
   "cell_type": "code",
   "execution_count": 176,
   "id": "baa1dcab",
   "metadata": {},
   "outputs": [],
   "source": [
    "df['Payment_Method'] = df['Payment_Method'].replace('CRD', 'Credit Card')\n",
    "df['Payment_Method'] = df['Payment_Method'].replace('Debit', 'Debit Card')\n",
    "df['Payment_Method'] = df['Payment_Method'].replace('cash', 'Cash')\n",
    "df['Payment_Method'] = df['Payment_Method'].replace('paypal', 'PayPal')"
   ]
  },
  {
   "cell_type": "code",
   "execution_count": 177,
   "id": "a2fa78ca",
   "metadata": {},
   "outputs": [],
   "source": [
    "df['CustomerID'] = df['CustomerID'].str.replace('(?i)^cust', '', regex=True).astype(int)\n"
   ]
  },
  {
   "cell_type": "code",
   "execution_count": 178,
   "id": "294f9f42",
   "metadata": {},
   "outputs": [
    {
     "data": {
      "text/html": [
       "<div>\n",
       "<style scoped>\n",
       "    .dataframe tbody tr th:only-of-type {\n",
       "        vertical-align: middle;\n",
       "    }\n",
       "\n",
       "    .dataframe tbody tr th {\n",
       "        vertical-align: top;\n",
       "    }\n",
       "\n",
       "    .dataframe thead th {\n",
       "        text-align: right;\n",
       "    }\n",
       "</style>\n",
       "<table border=\"1\" class=\"dataframe\">\n",
       "  <thead>\n",
       "    <tr style=\"text-align: right;\">\n",
       "      <th></th>\n",
       "      <th>CustomerID</th>\n",
       "      <th>Date</th>\n",
       "      <th>Amount</th>\n",
       "      <th>Category</th>\n",
       "      <th>Location</th>\n",
       "      <th>Payment_Method</th>\n",
       "    </tr>\n",
       "  </thead>\n",
       "  <tbody>\n",
       "    <tr>\n",
       "      <th>0</th>\n",
       "      <td>177</td>\n",
       "      <td>2023-02-12</td>\n",
       "      <td>1468.92</td>\n",
       "      <td>Clothing</td>\n",
       "      <td>NaN</td>\n",
       "      <td>Debit Card</td>\n",
       "    </tr>\n",
       "    <tr>\n",
       "      <th>1</th>\n",
       "      <td>359</td>\n",
       "      <td>2022-04-13</td>\n",
       "      <td>421.06</td>\n",
       "      <td>Beauty</td>\n",
       "      <td>NaN</td>\n",
       "      <td>PayPal</td>\n",
       "    </tr>\n",
       "    <tr>\n",
       "      <th>2</th>\n",
       "      <td>315</td>\n",
       "      <td>2023-12-25</td>\n",
       "      <td>94.63</td>\n",
       "      <td>Beauty</td>\n",
       "      <td>NaN</td>\n",
       "      <td>Credit Card</td>\n",
       "    </tr>\n",
       "    <tr>\n",
       "      <th>3</th>\n",
       "      <td>422</td>\n",
       "      <td>2023-09-07</td>\n",
       "      <td>865.11</td>\n",
       "      <td>Clothing</td>\n",
       "      <td>Chicago</td>\n",
       "      <td>Debit Card</td>\n",
       "    </tr>\n",
       "    <tr>\n",
       "      <th>4</th>\n",
       "      <td>312</td>\n",
       "      <td>2023-02-15</td>\n",
       "      <td>1224.07</td>\n",
       "      <td>NaN</td>\n",
       "      <td>Chicago</td>\n",
       "      <td>NaN</td>\n",
       "    </tr>\n",
       "  </tbody>\n",
       "</table>\n",
       "</div>"
      ],
      "text/plain": [
       "   CustomerID       Date   Amount  Category Location Payment_Method\n",
       "0         177 2023-02-12  1468.92  Clothing      NaN     Debit Card\n",
       "1         359 2022-04-13   421.06    Beauty      NaN         PayPal\n",
       "2         315 2023-12-25    94.63    Beauty      NaN    Credit Card\n",
       "3         422 2023-09-07   865.11  Clothing  Chicago     Debit Card\n",
       "4         312 2023-02-15  1224.07       NaN  Chicago            NaN"
      ]
     },
     "execution_count": 178,
     "metadata": {},
     "output_type": "execute_result"
    }
   ],
   "source": [
    "df.head()"
   ]
  },
  {
   "cell_type": "markdown",
   "id": "92a2f752",
   "metadata": {},
   "source": [
    "## RFM\n"
   ]
  },
  {
   "cell_type": "code",
   "execution_count": 179,
   "id": "ed681782",
   "metadata": {},
   "outputs": [
    {
     "data": {
      "text/plain": [
       "Timestamp('2024-05-30 00:00:00')"
      ]
     },
     "execution_count": 179,
     "metadata": {},
     "output_type": "execute_result"
    }
   ],
   "source": [
    "reference_date=df['Date'].max()\n",
    "reference_date"
   ]
  },
  {
   "cell_type": "code",
   "execution_count": 180,
   "id": "3c1b094a",
   "metadata": {},
   "outputs": [],
   "source": [
    "rfm = df.groupby('CustomerID').agg({\n",
    "    'Date': [\n",
    "        ('Tenure', lambda x: (x.max() - x.min()).days),\n",
    "        ('Recency', lambda x: (reference_date - x.max()).days)\n",
    "    ],\n",
    "    'CustomerID':  'count',\n",
    "    'Amount':  'sum',\n",
    "})\n"
   ]
  },
  {
   "cell_type": "code",
   "execution_count": null,
   "id": "9bddcd0c",
   "metadata": {},
   "outputs": [
    {
     "data": {
      "text/html": [
       "<div>\n",
       "<style scoped>\n",
       "    .dataframe tbody tr th:only-of-type {\n",
       "        vertical-align: middle;\n",
       "    }\n",
       "\n",
       "    .dataframe tbody tr th {\n",
       "        vertical-align: top;\n",
       "    }\n",
       "\n",
       "    .dataframe thead th {\n",
       "        text-align: right;\n",
       "    }\n",
       "</style>\n",
       "<table border=\"1\" class=\"dataframe\">\n",
       "  <thead>\n",
       "    <tr style=\"text-align: right;\">\n",
       "      <th></th>\n",
       "      <th>CustomerID</th>\n",
       "      <th>Tenure</th>\n",
       "      <th>Recency</th>\n",
       "      <th>Frequency</th>\n",
       "      <th>Monetary</th>\n",
       "    </tr>\n",
       "  </thead>\n",
       "  <tbody>\n",
       "    <tr>\n",
       "      <th>0</th>\n",
       "      <td>1</td>\n",
       "      <td>801</td>\n",
       "      <td>7</td>\n",
       "      <td>6</td>\n",
       "      <td>5041.99</td>\n",
       "    </tr>\n",
       "    <tr>\n",
       "      <th>1</th>\n",
       "      <td>2</td>\n",
       "      <td>858</td>\n",
       "      <td>2</td>\n",
       "      <td>17</td>\n",
       "      <td>18223.82</td>\n",
       "    </tr>\n",
       "    <tr>\n",
       "      <th>2</th>\n",
       "      <td>3</td>\n",
       "      <td>787</td>\n",
       "      <td>74</td>\n",
       "      <td>15</td>\n",
       "      <td>14604.43</td>\n",
       "    </tr>\n",
       "    <tr>\n",
       "      <th>3</th>\n",
       "      <td>4</td>\n",
       "      <td>652</td>\n",
       "      <td>153</td>\n",
       "      <td>11</td>\n",
       "      <td>12075.79</td>\n",
       "    </tr>\n",
       "    <tr>\n",
       "      <th>4</th>\n",
       "      <td>5</td>\n",
       "      <td>556</td>\n",
       "      <td>312</td>\n",
       "      <td>9</td>\n",
       "      <td>9188.32</td>\n",
       "    </tr>\n",
       "  </tbody>\n",
       "</table>\n",
       "</div>"
      ],
      "text/plain": [
       "   CustomerID  Tenure  Recency  Frequency  Monetary\n",
       "0           1     801        7          6   5041.99\n",
       "1           2     858        2         17  18223.82\n",
       "2           3     787       74         15  14604.43\n",
       "3           4     652      153         11  12075.79\n",
       "4           5     556      312          9   9188.32"
      ]
     },
     "execution_count": 181,
     "metadata": {},
     "output_type": "execute_result"
    }
   ],
   "source": [
    "rfm.rename(columns={'Date':'Recency','count':'Frequency','sum':'Monetary'},inplace=True)\n",
    "rfm.columns = rfm.columns.droplevel(0)\n",
    "rfm = rfm.reset_index()\n",
    "\n",
    "rfm.head()"
   ]
  },
  {
   "cell_type": "code",
   "execution_count": 182,
   "id": "926f8d93",
   "metadata": {},
   "outputs": [
    {
     "data": {
      "text/html": [
       "<div>\n",
       "<style scoped>\n",
       "    .dataframe tbody tr th:only-of-type {\n",
       "        vertical-align: middle;\n",
       "    }\n",
       "\n",
       "    .dataframe tbody tr th {\n",
       "        vertical-align: top;\n",
       "    }\n",
       "\n",
       "    .dataframe thead th {\n",
       "        text-align: right;\n",
       "    }\n",
       "</style>\n",
       "<table border=\"1\" class=\"dataframe\">\n",
       "  <thead>\n",
       "    <tr style=\"text-align: right;\">\n",
       "      <th></th>\n",
       "      <th>CustomerID</th>\n",
       "      <th>Tenure</th>\n",
       "      <th>Recency</th>\n",
       "      <th>Frequency</th>\n",
       "      <th>Monetary</th>\n",
       "      <th>AOV</th>\n",
       "    </tr>\n",
       "  </thead>\n",
       "  <tbody>\n",
       "    <tr>\n",
       "      <th>0</th>\n",
       "      <td>1</td>\n",
       "      <td>801</td>\n",
       "      <td>7</td>\n",
       "      <td>6</td>\n",
       "      <td>5041.99</td>\n",
       "      <td>840.331667</td>\n",
       "    </tr>\n",
       "    <tr>\n",
       "      <th>1</th>\n",
       "      <td>2</td>\n",
       "      <td>858</td>\n",
       "      <td>2</td>\n",
       "      <td>17</td>\n",
       "      <td>18223.82</td>\n",
       "      <td>1071.989412</td>\n",
       "    </tr>\n",
       "    <tr>\n",
       "      <th>2</th>\n",
       "      <td>3</td>\n",
       "      <td>787</td>\n",
       "      <td>74</td>\n",
       "      <td>15</td>\n",
       "      <td>14604.43</td>\n",
       "      <td>973.628667</td>\n",
       "    </tr>\n",
       "    <tr>\n",
       "      <th>3</th>\n",
       "      <td>4</td>\n",
       "      <td>652</td>\n",
       "      <td>153</td>\n",
       "      <td>11</td>\n",
       "      <td>12075.79</td>\n",
       "      <td>1097.799091</td>\n",
       "    </tr>\n",
       "    <tr>\n",
       "      <th>4</th>\n",
       "      <td>5</td>\n",
       "      <td>556</td>\n",
       "      <td>312</td>\n",
       "      <td>9</td>\n",
       "      <td>9188.32</td>\n",
       "      <td>1020.924444</td>\n",
       "    </tr>\n",
       "  </tbody>\n",
       "</table>\n",
       "</div>"
      ],
      "text/plain": [
       "   CustomerID  Tenure  Recency  Frequency  Monetary          AOV\n",
       "0           1     801        7          6   5041.99   840.331667\n",
       "1           2     858        2         17  18223.82  1071.989412\n",
       "2           3     787       74         15  14604.43   973.628667\n",
       "3           4     652      153         11  12075.79  1097.799091\n",
       "4           5     556      312          9   9188.32  1020.924444"
      ]
     },
     "execution_count": 182,
     "metadata": {},
     "output_type": "execute_result"
    }
   ],
   "source": [
    "rfm['AOV']=rfm['Monetary']/rfm['Frequency']\n",
    "rfm.head()"
   ]
  },
  {
   "cell_type": "code",
   "execution_count": 183,
   "id": "bba450cf",
   "metadata": {},
   "outputs": [
    {
     "data": {
      "text/html": [
       "<div>\n",
       "<style scoped>\n",
       "    .dataframe tbody tr th:only-of-type {\n",
       "        vertical-align: middle;\n",
       "    }\n",
       "\n",
       "    .dataframe tbody tr th {\n",
       "        vertical-align: top;\n",
       "    }\n",
       "\n",
       "    .dataframe thead th {\n",
       "        text-align: right;\n",
       "    }\n",
       "</style>\n",
       "<table border=\"1\" class=\"dataframe\">\n",
       "  <thead>\n",
       "    <tr style=\"text-align: right;\">\n",
       "      <th></th>\n",
       "      <th>CustomerID</th>\n",
       "      <th>Tenure</th>\n",
       "      <th>Recency</th>\n",
       "      <th>Frequency</th>\n",
       "      <th>Monetary</th>\n",
       "      <th>AOV</th>\n",
       "      <th>rfm_recency</th>\n",
       "      <th>rfm_frequency</th>\n",
       "      <th>rfm_monetary</th>\n",
       "    </tr>\n",
       "  </thead>\n",
       "  <tbody>\n",
       "    <tr>\n",
       "      <th>count</th>\n",
       "      <td>500.000000</td>\n",
       "      <td>500.000000</td>\n",
       "      <td>500.000000</td>\n",
       "      <td>500.000000</td>\n",
       "      <td>500.000000</td>\n",
       "      <td>500.000000</td>\n",
       "      <td>500.000000</td>\n",
       "      <td>500.000000</td>\n",
       "      <td>500.00000</td>\n",
       "    </tr>\n",
       "    <tr>\n",
       "      <th>mean</th>\n",
       "      <td>250.500000</td>\n",
       "      <td>689.988000</td>\n",
       "      <td>92.534000</td>\n",
       "      <td>9.772000</td>\n",
       "      <td>9781.266720</td>\n",
       "      <td>1007.632708</td>\n",
       "      <td>3.018000</td>\n",
       "      <td>2.784000</td>\n",
       "      <td>3.00000</td>\n",
       "    </tr>\n",
       "    <tr>\n",
       "      <th>std</th>\n",
       "      <td>144.481833</td>\n",
       "      <td>128.844533</td>\n",
       "      <td>87.265522</td>\n",
       "      <td>3.209457</td>\n",
       "      <td>3603.804176</td>\n",
       "      <td>203.132198</td>\n",
       "      <td>1.421872</td>\n",
       "      <td>1.396153</td>\n",
       "      <td>1.41563</td>\n",
       "    </tr>\n",
       "    <tr>\n",
       "      <th>min</th>\n",
       "      <td>1.000000</td>\n",
       "      <td>0.000000</td>\n",
       "      <td>0.000000</td>\n",
       "      <td>1.000000</td>\n",
       "      <td>723.010000</td>\n",
       "      <td>463.653333</td>\n",
       "      <td>1.000000</td>\n",
       "      <td>1.000000</td>\n",
       "      <td>1.00000</td>\n",
       "    </tr>\n",
       "    <tr>\n",
       "      <th>25%</th>\n",
       "      <td>125.750000</td>\n",
       "      <td>629.000000</td>\n",
       "      <td>32.000000</td>\n",
       "      <td>8.000000</td>\n",
       "      <td>7136.852500</td>\n",
       "      <td>873.306500</td>\n",
       "      <td>2.000000</td>\n",
       "      <td>2.000000</td>\n",
       "      <td>2.00000</td>\n",
       "    </tr>\n",
       "    <tr>\n",
       "      <th>50%</th>\n",
       "      <td>250.500000</td>\n",
       "      <td>720.500000</td>\n",
       "      <td>63.500000</td>\n",
       "      <td>10.000000</td>\n",
       "      <td>9671.900000</td>\n",
       "      <td>1010.203193</td>\n",
       "      <td>3.000000</td>\n",
       "      <td>3.000000</td>\n",
       "      <td>3.00000</td>\n",
       "    </tr>\n",
       "    <tr>\n",
       "      <th>75%</th>\n",
       "      <td>375.250000</td>\n",
       "      <td>786.000000</td>\n",
       "      <td>131.000000</td>\n",
       "      <td>12.000000</td>\n",
       "      <td>12106.932500</td>\n",
       "      <td>1139.656858</td>\n",
       "      <td>4.000000</td>\n",
       "      <td>4.000000</td>\n",
       "      <td>4.00000</td>\n",
       "    </tr>\n",
       "    <tr>\n",
       "      <th>max</th>\n",
       "      <td>500.000000</td>\n",
       "      <td>878.000000</td>\n",
       "      <td>476.000000</td>\n",
       "      <td>19.000000</td>\n",
       "      <td>21998.060000</td>\n",
       "      <td>1927.660000</td>\n",
       "      <td>5.000000</td>\n",
       "      <td>5.000000</td>\n",
       "      <td>5.00000</td>\n",
       "    </tr>\n",
       "  </tbody>\n",
       "</table>\n",
       "</div>"
      ],
      "text/plain": [
       "       CustomerID      Tenure     Recency   Frequency      Monetary  \\\n",
       "count  500.000000  500.000000  500.000000  500.000000    500.000000   \n",
       "mean   250.500000  689.988000   92.534000    9.772000   9781.266720   \n",
       "std    144.481833  128.844533   87.265522    3.209457   3603.804176   \n",
       "min      1.000000    0.000000    0.000000    1.000000    723.010000   \n",
       "25%    125.750000  629.000000   32.000000    8.000000   7136.852500   \n",
       "50%    250.500000  720.500000   63.500000   10.000000   9671.900000   \n",
       "75%    375.250000  786.000000  131.000000   12.000000  12106.932500   \n",
       "max    500.000000  878.000000  476.000000   19.000000  21998.060000   \n",
       "\n",
       "               AOV  rfm_recency  rfm_frequency  rfm_monetary  \n",
       "count   500.000000   500.000000     500.000000     500.00000  \n",
       "mean   1007.632708     3.018000       2.784000       3.00000  \n",
       "std     203.132198     1.421872       1.396153       1.41563  \n",
       "min     463.653333     1.000000       1.000000       1.00000  \n",
       "25%     873.306500     2.000000       2.000000       2.00000  \n",
       "50%    1010.203193     3.000000       3.000000       3.00000  \n",
       "75%    1139.656858     4.000000       4.000000       4.00000  \n",
       "max    1927.660000     5.000000       5.000000       5.00000  "
      ]
     },
     "execution_count": 183,
     "metadata": {},
     "output_type": "execute_result"
    }
   ],
   "source": [
    "quantiles= rfm.quantile(q=[0.2,0.4,0.6,0.8])\n",
    "\n",
    "def Rscore(x,p,d):\n",
    "    if p=='Recency':\n",
    "        if x<=d[p][0.2]:\n",
    "            return 5\n",
    "        elif x<=d[p][0.4]:\n",
    "            return 4\n",
    "        elif x<=d[p][0.6]:\n",
    "            return 3\n",
    "        elif x<=d[p][0.8]:\n",
    "            return 2\n",
    "        else:\n",
    "            return 1\n",
    "        \n",
    "    else:\n",
    "        if x<=d[p][0.2]:\n",
    "            return 1\n",
    "        elif x<=d[p][0.4]:\n",
    "            return 2\n",
    "        elif x<=d[p][0.6]:\n",
    "            return 3\n",
    "        elif x<=d[p][0.8]:\n",
    "            return 4\n",
    "        else:\n",
    "            return 5\n",
    "        \n",
    "rfm['rfm_recency'] = rfm['Recency'].apply(Rscore, args=('Recency', quantiles,))\n",
    "rfm['rfm_frequency'] = rfm['Frequency'].apply(Rscore, args=('Frequency', quantiles,))\n",
    "rfm['rfm_monetary'] = rfm['Monetary'].apply(Rscore, args=('Monetary', quantiles,))\n",
    "\n",
    "rfm.describe()\n"
   ]
  },
  {
   "cell_type": "code",
   "execution_count": 184,
   "id": "39ecff87",
   "metadata": {},
   "outputs": [],
   "source": [
    "rfm['rfm_score']=rfm['rfm_recency']+rfm['rfm_frequency']+rfm['rfm_monetary']"
   ]
  },
  {
   "cell_type": "code",
   "execution_count": 185,
   "id": "2fb4a766",
   "metadata": {},
   "outputs": [],
   "source": [
    "def segmentation(x):\n",
    "    if x>=13 and x<=15:\n",
    "        return 'Best Customers'\n",
    "    elif x==11 or x==12:\n",
    "        return 'Loyal Customers'\n",
    "    elif x==9 or x==10:\n",
    "        return 'Potential Loyalists'\n",
    "    elif x==7 or x==8:\n",
    "        return 'Need Attention'\n",
    "    elif x>=4 and x<=6:\n",
    "        return 'Potential Churners'\n",
    "    else:\n",
    "        return 'Lost Customers'\n",
    "    \n",
    "rfm['rfm_Segment'] = rfm['rfm_score'].apply(segmentation)"
   ]
  },
  {
   "cell_type": "code",
   "execution_count": 186,
   "id": "a13d411f",
   "metadata": {},
   "outputs": [
    {
     "data": {
      "text/html": [
       "<div>\n",
       "<style scoped>\n",
       "    .dataframe tbody tr th:only-of-type {\n",
       "        vertical-align: middle;\n",
       "    }\n",
       "\n",
       "    .dataframe tbody tr th {\n",
       "        vertical-align: top;\n",
       "    }\n",
       "\n",
       "    .dataframe thead th {\n",
       "        text-align: right;\n",
       "    }\n",
       "</style>\n",
       "<table border=\"1\" class=\"dataframe\">\n",
       "  <thead>\n",
       "    <tr style=\"text-align: right;\">\n",
       "      <th></th>\n",
       "      <th>CustomerID</th>\n",
       "      <th>Tenure</th>\n",
       "      <th>Recency</th>\n",
       "      <th>Frequency</th>\n",
       "      <th>Monetary</th>\n",
       "      <th>AOV</th>\n",
       "      <th>rfm_recency</th>\n",
       "      <th>rfm_frequency</th>\n",
       "      <th>rfm_monetary</th>\n",
       "      <th>rfm_score</th>\n",
       "      <th>rfm_Segment</th>\n",
       "    </tr>\n",
       "  </thead>\n",
       "  <tbody>\n",
       "    <tr>\n",
       "      <th>0</th>\n",
       "      <td>1</td>\n",
       "      <td>801</td>\n",
       "      <td>7</td>\n",
       "      <td>6</td>\n",
       "      <td>5041.99</td>\n",
       "      <td>840.331667</td>\n",
       "      <td>5</td>\n",
       "      <td>1</td>\n",
       "      <td>1</td>\n",
       "      <td>7</td>\n",
       "      <td>Need Attention</td>\n",
       "    </tr>\n",
       "    <tr>\n",
       "      <th>1</th>\n",
       "      <td>2</td>\n",
       "      <td>858</td>\n",
       "      <td>2</td>\n",
       "      <td>17</td>\n",
       "      <td>18223.82</td>\n",
       "      <td>1071.989412</td>\n",
       "      <td>5</td>\n",
       "      <td>5</td>\n",
       "      <td>5</td>\n",
       "      <td>15</td>\n",
       "      <td>Best Customers</td>\n",
       "    </tr>\n",
       "    <tr>\n",
       "      <th>2</th>\n",
       "      <td>3</td>\n",
       "      <td>787</td>\n",
       "      <td>74</td>\n",
       "      <td>15</td>\n",
       "      <td>14604.43</td>\n",
       "      <td>973.628667</td>\n",
       "      <td>3</td>\n",
       "      <td>5</td>\n",
       "      <td>5</td>\n",
       "      <td>13</td>\n",
       "      <td>Best Customers</td>\n",
       "    </tr>\n",
       "    <tr>\n",
       "      <th>3</th>\n",
       "      <td>4</td>\n",
       "      <td>652</td>\n",
       "      <td>153</td>\n",
       "      <td>11</td>\n",
       "      <td>12075.79</td>\n",
       "      <td>1097.799091</td>\n",
       "      <td>1</td>\n",
       "      <td>4</td>\n",
       "      <td>4</td>\n",
       "      <td>9</td>\n",
       "      <td>Potential Loyalists</td>\n",
       "    </tr>\n",
       "    <tr>\n",
       "      <th>4</th>\n",
       "      <td>5</td>\n",
       "      <td>556</td>\n",
       "      <td>312</td>\n",
       "      <td>9</td>\n",
       "      <td>9188.32</td>\n",
       "      <td>1020.924444</td>\n",
       "      <td>1</td>\n",
       "      <td>2</td>\n",
       "      <td>3</td>\n",
       "      <td>6</td>\n",
       "      <td>Potential Churners</td>\n",
       "    </tr>\n",
       "  </tbody>\n",
       "</table>\n",
       "</div>"
      ],
      "text/plain": [
       "   CustomerID  Tenure  Recency  Frequency  Monetary          AOV  rfm_recency  \\\n",
       "0           1     801        7          6   5041.99   840.331667            5   \n",
       "1           2     858        2         17  18223.82  1071.989412            5   \n",
       "2           3     787       74         15  14604.43   973.628667            3   \n",
       "3           4     652      153         11  12075.79  1097.799091            1   \n",
       "4           5     556      312          9   9188.32  1020.924444            1   \n",
       "\n",
       "   rfm_frequency  rfm_monetary  rfm_score          rfm_Segment  \n",
       "0              1             1          7       Need Attention  \n",
       "1              5             5         15       Best Customers  \n",
       "2              5             5         13       Best Customers  \n",
       "3              4             4          9  Potential Loyalists  \n",
       "4              2             3          6   Potential Churners  "
      ]
     },
     "execution_count": 186,
     "metadata": {},
     "output_type": "execute_result"
    }
   ],
   "source": [
    "rfm.head()"
   ]
  },
  {
   "cell_type": "code",
   "execution_count": 199,
   "id": "081246ba",
   "metadata": {},
   "outputs": [
    {
     "data": {
      "image/png": "[encoded data removed]",
      "text/plain": [
       "<Figure size 500x1000 with 1 Axes>"
      ]
     },
     "metadata": {},
     "output_type": "display_data"
    }
   ],
   "source": [
    "plt.figure(figsize=(5, 10))\n",
    "sns.barplot(x='rfm_Segment',y='Recency', data=rfm, hue='rfm_Segment')\n",
    "plt.title('Recency distribution')\n",
    "plt.xlabel('Segment')\n",
    "plt.ylabel('Recency')\n",
    "plt.xticks(rotation=45)\n",
    "plt.tight_layout() \n",
    "plt.show()"
   ]
  },
  {
   "cell_type": "code",
   "execution_count": 200,
   "id": "6628d0d2",
   "metadata": {},
   "outputs": [
    {
     "data": {
      "image/png": "[encoded data removed]",
      "text/plain": [
       "<Figure size 500x1000 with 1 Axes>"
      ]
     },
     "metadata": {},
     "output_type": "display_data"
    }
   ],
   "source": [
    "plt.figure(figsize=(5, 10))\n",
    "sns.barplot(x='rfm_Segment',y='Frequency', data=rfm, hue='rfm_Segment')\n",
    "plt.title('Frequency distribution')\n",
    "plt.xlabel('Segment')\n",
    "plt.ylabel('Frequency')\n",
    "plt.xticks(rotation=45)\n",
    "plt.tight_layout() \n",
    "plt.show()"
   ]
  },
  {
   "cell_type": "code",
   "execution_count": 201,
   "id": "a0b77de2",
   "metadata": {},
   "outputs": [
    {
     "data": {
      "image/png": "[encoded data removed]",
      "text/plain": [
       "<Figure size 500x1000 with 1 Axes>"
      ]
     },
     "metadata": {},
     "output_type": "display_data"
    }
   ],
   "source": [
    "plt.figure(figsize=(5, 10))\n",
    "sns.barplot(x='rfm_Segment',y='Monetary', data=rfm, hue='rfm_Segment')\n",
    "plt.title('Monetary distribution')\n",
    "plt.xlabel('Segment')\n",
    "plt.ylabel('Monetary')\n",
    "plt.xticks(rotation=45)\n",
    "plt.tight_layout() \n",
    "plt.show()"
   ]
  },
  {
   "cell_type": "code",
   "execution_count": 202,
   "id": "50d7a868",
   "metadata": {},
   "outputs": [
    {
     "data": {
      "image/png": "[encoded data removed]",
      "text/plain": [
       "<Figure size 500x1000 with 1 Axes>"
      ]
     },
     "metadata": {},
     "output_type": "display_data"
    }
   ],
   "source": [
    "plt.figure(figsize=(5, 10))\n",
    "sns.barplot(x='rfm_Segment',y='rfm_score', data=rfm, hue='rfm_Segment')\n",
    "plt.title('RFM Score Distribution')\n",
    "plt.xlabel('Segment')\n",
    "plt.ylabel('Score')\n",
    "plt.xticks(rotation=45)\n",
    "plt.tight_layout() \n",
    "plt.show()"
   ]
  }
 ],
 "metadata": {
  "kernelspec": {
   "display_name": "base",
   "language": "python",
   "name": "python3"
  },
  "language_info": {
   "codemirror_mode": {
    "name": "ipython",
    "version": 3
   },
   "file_extension": ".py",
   "mimetype": "text/x-python",
   "name": "python",
   "nbconvert_exporter": "python",
   "pygments_lexer": "ipython3",
   "version": "3.12.3"
  }
 },
 "nbformat": 4,
 "nbformat_minor": 5
}
